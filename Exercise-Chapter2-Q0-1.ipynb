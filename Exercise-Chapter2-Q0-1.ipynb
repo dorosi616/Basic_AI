{
 "cells": [
  {
   "cell_type": "markdown",
   "metadata": {},
   "source": [
    "## Chapter 2."
   ]
  },
  {
   "cell_type": "markdown",
   "metadata": {},
   "source": [
    "### Q0 (https://www.acmicpc.net/problem/10871)\n",
    "\n",
    "### 정수 N개로 이루어진 수열 A와 정수 X가 주어진다. 이때, A에서 X보다 작은 수를 모두 출력하는 프로그램을 작성하시오.\n",
    "### 입력\n",
    "- 첫째 줄에 N과 X가 주어진다. (1 ≤ N, X ≤ 10,000)\n",
    "- 둘째 줄에 수열 A를 이루는 정수 N개가 주어진다. 주어지는 정수는 모두 1보다 크거나 같고, 10,000보다 작거나 같은 정수이다.\n",
    "### 출력\n",
    "- X보다 작은 수를 입력받은 순서대로 공백으로 구분해 출력한다. X보다 작은 수는 적어도 하나 존재한다.\n",
    "### 예제 입력 1\n",
    "- 10 5\n",
    "- 1 10 4 9 2 3 8 5 7 6\n",
    "### 예제 출력 1\n",
    "- 1 4 2 3"
   ]
  },
  {
   "cell_type": "code",
   "execution_count": 2,
   "metadata": {},
   "outputs": [
    {
     "name": "stdout",
     "output_type": "stream",
     "text": [
      "10 5\n",
      "1 10 4 9 2 3 8 5 7 6\n",
      "1 4 2 3 "
     ]
    }
   ],
   "source": [
    "cnt, num = map(int, input().split())\n",
    "data = list(map(int, input().split()))\n",
    "\n",
    "for i in data:\n",
    "  if i < num:\n",
    "    print(i, end=' ')"
   ]
  },
  {
   "cell_type": "markdown",
   "metadata": {},
   "source": [
    "### Q1 (https://programmers.co.kr/learn/courses/30/lessons/77484)\n",
    "### 로또 6/45(이하 '로또'로 표기)는 1부터 45까지의 숫자 중 6개를 찍어서 맞히는 대표적인 복권입니다. 아래는 로또의 순위를 정하는 방식입니다. \n",
    "\n",
    "|순위\t| 당첨  내용\n",
    "|----|---------\n",
    "| 1\t | 6개 번호가 모두 일치\n",
    "| 2\t | 5개 번호가 일치\n",
    "| 3\t | 4개 번호가 일치\n",
    "| 4\t | 3개 번호가 일치\n",
    "| 5\t | 2개 번호가 일치\n",
    "| 6  | (낙첨)\t그 외\n",
    "\n",
    "### 로또를 구매한 민우는 당첨 번호 발표일을 학수고대하고 있었습니다. 하지만, 민우의 동생이 로또에 낙서를 하여, 일부 번호를 알아볼 수 없게 되었습니다. 당첨 번호 발표 후, 민우는 자신이 구매했던 로또로 당첨이 가능했던 최고 순위와 최저 순위를 알아보고 싶어 졌습니다. 알아볼 수 없는 번호를 0으로 표기하기로 하고, 민우가 구매한 로또 번호 6개가 44, 1, 0, 0, 31 25라고 가정해보겠습니다. 당첨 번호 6개가 31, 10, 45, 1, 6, 19라면, 당첨 가능한 최고 순위와 최저 순위의 한 예는 아래와 같습니다.\n",
    "\n",
    "| 당첨 번호\t    | 31 10 45 1 6 19\t| 결과\n",
    "|-------------|-------------------|-----------------\n",
    "| 최고 순위 번호 | 31\t0→10 44\t1 0→6 25 | 4개 번호 일치, 3등\n",
    "| 최저 순위 번호 | 31\t0→11 44\t1 0→7 25 | 2개 번호 일치, 5등\n",
    "\n",
    "- 순서와 상관없이, 구매한 로또에 당첨 번호와 일치하는 번호가 있으면 맞힌 걸로 인정됩니다.\n",
    "- 알아볼 수 없는 두 개의 번호를 각각 10, 6이라고 가정하면 3등에 당첨될 수 있습니다.\n",
    "- 3등을 만드는 다른 방법들도 존재합니다. 하지만, 2등 이상으로 만드는 것은 불가능합니다.\n",
    "- 알아볼 수 없는 두 개의 번호를 각각 11, 7이라고 가정하면 5등에 당첨될 수 있습니다.\n",
    "- 5등을 만드는 다른 방법들도 존재합니다. 하지만, 6등(낙첨)으로 만드는 것은 불가능합니다.\n",
    "\n",
    "### 민우가 구매한 로또 번호를 담은 배열 lottos, 당첨 번호를 담은 배열 win_nums가 매개변수로 주어집니다. 이때, 당첨 가능한 최고 순위와 최저 순위를 차례대로 배열에 담아서 return 하도록 solution 함수를 완성해주세요.\n",
    "\n",
    "### 제한사항\n",
    "- lottos는 길이 6인 정수 배열입니다.\n",
    "- lottos의 모든 원소는 0 이상 45 이하인 정수입니다.\n",
    "- 0은 알아볼 수 없는 숫자를 의미합니다.\n",
    "- 0을 제외한 다른 숫자들은 lottos에 2개 이상 담겨있지 않습니다.\n",
    "- lottos의 원소들은 정렬되어 있지 않을 수도 있습니다.\n",
    "- win_nums은 길이 6인 정수 배열입니다.\n",
    "- win_nums의 모든 원소는 1 이상 45 이하인 정수입니다.\n",
    "- win_nums에는 같은 숫자가 2개 이상 담겨있지 않습니다.\n",
    "- win_nums의 원소들은 정렬되어 있지 않을 수도 있습니다.\n",
    "\n",
    "### 입출력 예\n",
    "| lottos\t| win_nums\t| result\n",
    "|-----------|-----------|--------------\n",
    "|[44, 1, 0, 0, 31, 25]|\t[31, 10, 45, 1, 6, 19]|\t[3, 5]\n",
    "|[0, 0, 0, 0, 0, 0]\t|[38, 19, 20, 40, 15, 25]\t|[1, 6]\n",
    "|[45, 4, 35, 20, 3, 9]\t|[20, 9, 3, 45, 4, 35]\t|[1, 1]\n",
    "\n"
   ]
  },
  {
   "cell_type": "code",
   "execution_count": 3,
   "metadata": {},
   "outputs": [],
   "source": [
    "def solution(lottos, win_nums):\n",
    "\n",
    "  answer = []\n",
    "\n",
    "  rank = {6:1, 5:2, 4:3, 3:4, 2:5, 1:6, 0:6}   # 맞은개수 : 순위\n",
    "\n",
    "  correct = 0\n",
    "  lost = 0\n",
    "\n",
    "  for i in range(len(lottos)):\n",
    "    if lottos[i] == 0:\n",
    "      lost += 1\n",
    "    if lottos[i] in win_nums:\n",
    "      correct += 1\n",
    "\n",
    "  best = lost+correct\n",
    "  worst = correct\n",
    "\n",
    "  answer.append(rank[best])\n",
    "  answer.append(rank[worst])\n",
    "\n",
    "  return answer"
   ]
  },
  {
   "cell_type": "code",
   "execution_count": 4,
   "metadata": {},
   "outputs": [
    {
     "data": {
      "text/plain": [
       "[3, 5]"
      ]
     },
     "execution_count": 4,
     "metadata": {},
     "output_type": "execute_result"
    }
   ],
   "source": [
    "solution([44, 1, 0, 0, 31, 25], [31, 10, 45, 1, 6, 19])"
   ]
  },
  {
   "cell_type": "code",
   "execution_count": 5,
   "metadata": {},
   "outputs": [
    {
     "data": {
      "text/plain": [
       "[1, 6]"
      ]
     },
     "execution_count": 5,
     "metadata": {},
     "output_type": "execute_result"
    }
   ],
   "source": [
    "solution([0, 0, 0, 0, 0, 0], [38, 19, 20, 40, 15, 25])"
   ]
  }
 ],
 "metadata": {
  "kernelspec": {
   "display_name": "Python 3",
   "language": "python",
   "name": "python3"
  },
  "language_info": {
   "codemirror_mode": {
    "name": "ipython",
    "version": 3
   },
   "file_extension": ".py",
   "mimetype": "text/x-python",
   "name": "python",
   "nbconvert_exporter": "python",
   "pygments_lexer": "ipython3",
   "version": "3.8.8"
  }
 },
 "nbformat": 4,
 "nbformat_minor": 4
}
