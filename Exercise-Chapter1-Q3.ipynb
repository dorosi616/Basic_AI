{
 "cells": [
  {
   "cell_type": "markdown",
   "metadata": {},
   "source": [
    "## Chapter 1."
   ]
  },
  {
   "cell_type": "markdown",
   "metadata": {},
   "source": [
    "### Q3 (https://programmers.co.kr/learn/courses/30/lessons/77884)\n",
    "\n",
    "### 두 정수 left와 right가 매개변수로 주어집니다. left부터 right까지의 모든 수들 중에서, 약수의 개수가 짝수인 수는 더하고, 약수의 개수가 홀수인 수는 뺀 수를 return 하도록 solution 함수를 완성해주세요.\n",
    "\n",
    "### 제한사항\n",
    "- 1 ≤ left ≤ right ≤ 1,000\n",
    "\n",
    "### 입출력 예\n",
    "|left |right |result\n",
    "|-----|------|------\n",
    "|13 |17 |43\n",
    "|24 |27 |52\n",
    "\n",
    "### 입출력 예 left 13, right 17\n",
    "\n",
    "- 다음 표는 13부터 17까지의 수들의 약수를 모두 나타낸 것입니다.\n",
    "|수\t|약수\t|약수의 개수\n",
    "|---|-----|-------\n",
    "|13\t|1, 13\t|2\n",
    "|14\t|1, 2, 7, 14\t|4\n",
    "|15\t|1, 3, 5, 15\t|4\n",
    "|16\t|1, 2, 4, 8, 16\t|5\n",
    "|17\t|1, 17\t|2\n",
    "- 따라서, 13 + 14 + 15 - 16 + 17 = 43을 return 해야 합니다."
   ]
  },
  {
   "cell_type": "code",
   "execution_count": 7,
   "metadata": {},
   "outputs": [
    {
     "name": "stdout",
     "output_type": "stream",
     "text": [
      "13+14+15-16+17=43\n"
     ]
    }
   ],
   "source": [
    "# Q3 Answer template\n",
    "\n",
    "def check(number):\n",
    "    \n",
    "    cnt = 0\n",
    "    for i in range(1, number+1):\n",
    "        if number%i==0:\n",
    "            cnt+=1\n",
    "            \n",
    "    return cnt\n",
    "\n",
    "def solution(left, right):\n",
    "    \n",
    "    answer = 0\n",
    "    \n",
    "    for i in range(left, right+1):\n",
    "        res = check(i)\n",
    "        \n",
    "        if res%2==0:\n",
    "            answer += i\n",
    "            if i!=left: print(f'+{i}', end='')\n",
    "            else: print(f'{i}', end='')\n",
    "        else:\n",
    "            answer -= i\n",
    "            print(f'-{i}', end='')\n",
    "    \n",
    "    \n",
    "    print(f'={answer}')\n",
    "\n",
    "\n",
    "solution(13,17)"
   ]
  }
 ],
 "metadata": {
  "kernelspec": {
   "display_name": "Python 3",
   "language": "python",
   "name": "python3"
  },
  "language_info": {
   "codemirror_mode": {
    "name": "ipython",
    "version": 3
   },
   "file_extension": ".py",
   "mimetype": "text/x-python",
   "name": "python",
   "nbconvert_exporter": "python",
   "pygments_lexer": "ipython3",
   "version": "3.8.8"
  }
 },
 "nbformat": 4,
 "nbformat_minor": 4
}
